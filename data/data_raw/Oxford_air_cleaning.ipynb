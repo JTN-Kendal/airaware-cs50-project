{
 "cells": [
  {
   "cell_type": "code",
   "execution_count": 1,
   "id": "51ed40d9-fca0-4d73-bccb-ad4aa21bbbc4",
   "metadata": {},
   "outputs": [],
   "source": [
    "import pandas as pd\n",
    "import numpy as np"
   ]
  },
  {
   "cell_type": "code",
   "execution_count": 2,
   "id": "a5ed311d-46ba-4cec-9aa1-8d20e28c072b",
   "metadata": {},
   "outputs": [
    {
     "data": {
      "text/plain": [
       "'/Users/nathan/Documents/Python/_cources/cs50/code/_final-project/data/data_raw'"
      ]
     },
     "execution_count": 2,
     "metadata": {},
     "output_type": "execute_result"
    }
   ],
   "source": [
    "%pwd"
   ]
  },
  {
   "cell_type": "code",
   "execution_count": 7,
   "id": "54664e6d-6781-4e0d-a79c-94ad44700d2a",
   "metadata": {},
   "outputs": [],
   "source": [
    "data = pd.read_csv(\"2024-12-05-Data-Selector-Export-01.csv\")\n",
    "data.head().to_csv(\"data_sample.csv\")"
   ]
  },
  {
   "cell_type": "code",
   "execution_count": 5,
   "id": "9c62951e-b1a9-4069-b922-b8023c27e321",
   "metadata": {},
   "outputs": [
    {
     "name": "stdout",
     "output_type": "stream",
     "text": [
      "<class 'pandas.core.frame.DataFrame'>\n",
      "RangeIndex: 339 entries, 0 to 338\n",
      "Data columns (total 53 columns):\n",
      " #   Column                                                Non-Null Count  Dtype \n",
      "---  ------                                                --------------  ----- \n",
      " 0   Date                                                  339 non-null    object\n",
      " 1   Oxford High Street/ Nitric Oxide                      339 non-null    int64 \n",
      " 2   Oxford High Street/ Nitric Oxide/ Status              339 non-null    object\n",
      " 3   Oxford High Street/ Nitrogen dioxide                  339 non-null    int64 \n",
      " 4   Oxford High Street/ Nitrogen dioxide/ Status          339 non-null    object\n",
      " 5   Oxford High Street/ Oxides of Nitrogen                339 non-null    int64 \n",
      " 6   Oxford High Street/ Oxides of Nitrogen/ Status        339 non-null    object\n",
      " 7   Oxford High Street/ PM10 Particulate matter           339 non-null    object\n",
      " 8   Oxford High Street/ PM10 Particulate matter/ Status   339 non-null    object\n",
      " 9   Oxford High Street/ PM2.5 Particulate matter          339 non-null    object\n",
      " 10  Oxford High Street/ PM2.5 Particulate matter/ Status  339 non-null    object\n",
      " 11  Oxford St Aldates/ Nitric Oxide                       339 non-null    object\n",
      " 12  Oxford St Aldates/ Nitric Oxide/ Status               339 non-null    object\n",
      " 13  Oxford St Aldates/ Nitrogen dioxide                   339 non-null    object\n",
      " 14  Oxford St Aldates/ Nitrogen dioxide/ Status           339 non-null    object\n",
      " 15  Oxford St Aldates/ Oxides of Nitrogen                 339 non-null    object\n",
      " 16  Oxford St Aldates/ Oxides of Nitrogen/ Status         339 non-null    object\n",
      " 17  Oxford St Ebbes/ Ozone                                339 non-null    object\n",
      " 18  Oxford St Ebbes/ Ozone/ Status                        339 non-null    object\n",
      " 19  Oxford St Ebbes/ Nitric Oxide                         339 non-null    object\n",
      " 20  Oxford St Ebbes/ Nitric Oxide/ Status                 339 non-null    object\n",
      " 21  Oxford St Ebbes/ Nitrogen dioxide                     339 non-null    object\n",
      " 22  Oxford St Ebbes/ Nitrogen dioxide/ Status             339 non-null    object\n",
      " 23  Oxford St Ebbes/ Oxides of Nitrogen                   339 non-null    object\n",
      " 24  Oxford St Ebbes/ Oxides of Nitrogen/ Status           339 non-null    object\n",
      " 25  Oxford St Ebbes/ PM10 Particulate matter              339 non-null    object\n",
      " 26  Oxford St Ebbes/ PM10 Particulate matter/ Status      339 non-null    object\n",
      " 27  Oxford St Ebbes/ PM2.5 Particulate matter             339 non-null    object\n",
      " 28  Oxford St Ebbes/ PM2.5 Particulate matter/ Status     339 non-null    object\n",
      " 29  SODC Henley Duke St/ Nitric Oxide                     339 non-null    object\n",
      " 30  SODC Henley Duke St/ Nitric Oxide/ Status             339 non-null    object\n",
      " 31  SODC Henley Duke St/ Nitrogen dioxide                 339 non-null    object\n",
      " 32  SODC Henley Duke St/ Nitrogen dioxide/ Status         339 non-null    object\n",
      " 33  SODC Henley Duke St/ Oxides of Nitrogen               339 non-null    object\n",
      " 34  SODC Henley Duke St/ Oxides of Nitrogen/ Status       339 non-null    object\n",
      " 35  SODC Wallingford High St/ Nitric Oxide                339 non-null    object\n",
      " 36  SODC Wallingford High St/ Nitric Oxide/ Status        339 non-null    object\n",
      " 37  SODC Wallingford High St/ Nitrogen dioxide            339 non-null    object\n",
      " 38  SODC Wallingford High St/ Nitrogen dioxide/ Status    339 non-null    object\n",
      " 39  SODC Wallingford High St/ Oxides of Nitrogen          339 non-null    object\n",
      " 40  SODC Wallingford High St/ Oxides of Nitrogen/ Status  339 non-null    object\n",
      " 41  SODC Watlington High St/ Nitric Oxide                 339 non-null    object\n",
      " 42  SODC Watlington High St/ Nitric Oxide/ Status         339 non-null    object\n",
      " 43  SODC Watlington High St/ Nitrogen dioxide             339 non-null    object\n",
      " 44  SODC Watlington High St/ Nitrogen dioxide/ Status     339 non-null    object\n",
      " 45  SODC Watlington High St/ Oxides of Nitrogen           339 non-null    object\n",
      " 46  SODC Watlington High St/ Oxides of Nitrogen/ Status   339 non-null    object\n",
      " 47  VOWH Abingdon Stert St/ Nitric Oxide                  339 non-null    object\n",
      " 48  VOWH Abingdon Stert St/ Nitric Oxide/ Status          339 non-null    object\n",
      " 49  VOWH Abingdon Stert St/ Nitrogen dioxide              339 non-null    object\n",
      " 50  VOWH Abingdon Stert St/ Nitrogen dioxide/ Status      339 non-null    object\n",
      " 51  VOWH Abingdon Stert St/ Oxides of Nitrogen            339 non-null    object\n",
      " 52  VOWH Abingdon Stert St/ Oxides of Nitrogen/ Status    339 non-null    object\n",
      "dtypes: int64(3), object(50)\n",
      "memory usage: 140.5+ KB\n"
     ]
    }
   ],
   "source": [
    "data.info()"
   ]
  },
  {
   "cell_type": "code",
   "execution_count": null,
   "id": "8951e124-ed95-423e-a74d-2351b6f87033",
   "metadata": {},
   "outputs": [],
   "source": []
  }
 ],
 "metadata": {
  "kernelspec": {
   "display_name": "Python 3 (ipykernel)",
   "language": "python",
   "name": "python3"
  },
  "language_info": {
   "codemirror_mode": {
    "name": "ipython",
    "version": 3
   },
   "file_extension": ".py",
   "mimetype": "text/x-python",
   "name": "python",
   "nbconvert_exporter": "python",
   "pygments_lexer": "ipython3",
   "version": "3.9.5"
  }
 },
 "nbformat": 4,
 "nbformat_minor": 5
}
